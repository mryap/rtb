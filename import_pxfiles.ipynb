{
 "cells": [
  {
   "cell_type": "code",
   "execution_count": 3,
   "metadata": {},
   "outputs": [
    {
     "name": "stderr",
     "output_type": "stream",
     "text": [
      "also installing the dependency 'RJSONIO'\n",
      "\n"
     ]
    },
    {
     "name": "stdout",
     "output_type": "stream",
     "text": [
      "package 'RJSONIO' successfully unpacked and MD5 sums checked\n",
      "package 'pxR' successfully unpacked and MD5 sums checked\n",
      "\n",
      "The downloaded binary packages are in\n",
      "\tC:\\Users\\mryapss\\AppData\\Local\\Temp\\Rtmp4CcdGo\\downloaded_packages\n"
     ]
    }
   ],
   "source": [
    "#  Convert .px file format into CSV\n",
    "\n",
    "install.packages(\"pxR\",  repos = \"http://cran.us.r-project.org\")"
   ]
  },
  {
   "cell_type": "code",
   "execution_count": 4,
   "metadata": {},
   "outputs": [
    {
     "name": "stderr",
     "output_type": "stream",
     "text": [
      "Warning message:\n",
      "\"package 'pxR' was built under R version 3.4.2\"Loading required package: stringr\n",
      "Loading required package: reshape2\n",
      "Loading required package: RJSONIO\n",
      "Loading required package: plyr\n"
     ]
    }
   ],
   "source": [
    "# load library\n",
    "library(pxR)\n",
    "\n",
    "#\n",
    "my.px.object <- read.px(\"http://www.cso.ie/px/pxeirestat/Database/eirestat/Residential%20Tenancies%20Board%20(RTB)/RIA02.px\")\n",
    "my.px.data   <-  as.data.frame( my.px.object )"
   ]
  },
  {
   "cell_type": "code",
   "execution_count": null,
   "metadata": {
    "collapsed": true
   },
   "outputs": [],
   "source": [
    "# https://stat.ethz.ch/R-manual/R-devel/library/utils/html/write.table.html\n",
    "write.table(my.px.data, file = \"\", append = FALSE, quote = TRUE, sep = \" \",\n",
    "            eol = \"\\n\", na = \"NA\", dec = \".\", row.names = TRUE,\n",
    "            col.names = TRUE, qmethod = c(\"escape\", \"double\"),\n",
    "            fileEncoding = \"\")"
   ]
  },
  {
   "cell_type": "code",
   "execution_count": 5,
   "metadata": {
    "collapsed": true
   },
   "outputs": [],
   "source": [
    "# convert to csv file\n",
    "write.csv(my.px.data, file = \"data/ria02.csv\")"
   ]
  },
  {
   "cell_type": "code",
   "execution_count": null,
   "metadata": {
    "collapsed": true
   },
   "outputs": [],
   "source": []
  }
 ],
 "metadata": {
  "kernelspec": {
   "display_name": "R Computing",
   "language": "R",
   "name": "ir"
  },
  "language_info": {
   "codemirror_mode": "r",
   "file_extension": ".r",
   "mimetype": "text/x-r-source",
   "name": "R",
   "pygments_lexer": "r",
   "version": "3.4.1"
  }
 },
 "nbformat": 4,
 "nbformat_minor": 2
}
